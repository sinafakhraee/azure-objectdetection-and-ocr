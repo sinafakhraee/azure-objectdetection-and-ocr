{
 "cells": [
  {
   "cell_type": "markdown",
   "id": "d211e329",
   "metadata": {},
   "source": [
    "## Create an object detection project with the Custom Vision client library"
   ]
  },
  {
   "cell_type": "code",
   "execution_count": null,
   "id": "0f4e0b18",
   "metadata": {},
   "outputs": [],
   "source": [
    "!pip install azure-cognitiveservices-vision-customvision"
   ]
  },
  {
   "cell_type": "code",
   "execution_count": null,
   "id": "83fa749f",
   "metadata": {},
   "outputs": [],
   "source": [
    "from azure.cognitiveservices.vision.customvision.training import CustomVisionTrainingClient\n",
    "from azure.cognitiveservices.vision.customvision.prediction import CustomVisionPredictionClient\n",
    "from azure.cognitiveservices.vision.customvision.training.models import ImageFileCreateBatch, ImageFileCreateEntry, Region\n",
    "from msrest.authentication import ApiKeyCredentials\n",
    "import os, time, uuid"
   ]
  },
  {
   "cell_type": "code",
   "execution_count": null,
   "id": "ec36f870",
   "metadata": {},
   "outputs": [],
   "source": [
    "# Replace with valid values\n",
    "ENDPOINT = \"PASTE_YOUR_CUSTOM_VISION_TRAINING_ENDPOINT_HERE\"\n",
    "training_key = \"PASTE_YOUR_CUSTOM_VISION_TRAINING_SUBSCRIPTION_KEY_HERE\"\n",
    "prediction_key = \"PASTE_YOUR_CUSTOM_VISION_PREDICTION_SUBSCRIPTION_KEY_HERE\"\n",
    "prediction_resource_id = \"PASTE_YOUR_CUSTOM_VISION_PREDICTION_RESOURCE_ID_HERE\""
   ]
  },
  {
   "cell_type": "code",
   "execution_count": null,
   "id": "695851aa",
   "metadata": {},
   "outputs": [],
   "source": [
    "credentials = ApiKeyCredentials(in_headers={\"Training-key\": training_key})\n",
    "trainer = CustomVisionTrainingClient(ENDPOINT, credentials)\n",
    "prediction_credentials = ApiKeyCredentials(in_headers={\"Prediction-key\": prediction_key})\n",
    "predictor = CustomVisionPredictionClient(ENDPOINT, prediction_credentials)"
   ]
  },
  {
   "cell_type": "code",
   "execution_count": null,
   "id": "6a89192f",
   "metadata": {},
   "outputs": [],
   "source": [
    "publish_iteration_name = \"detectModel\"\n",
    "\n",
    "# Find the object detection domain\n",
    "obj_detection_domain = next(domain for domain in trainer.get_domains() if domain.type == \"ObjectDetection\" and domain.name == \"General\")\n",
    "\n",
    "# Create a new project\n",
    "print (\"Creating project...\")\n",
    "# Use uuid to avoid project name collisions.\n",
    "project = trainer.create_project(str(uuid.uuid4()), domain_id=obj_detection_domain.id)"
   ]
  },
  {
   "cell_type": "code",
   "execution_count": null,
   "id": "23802e81",
   "metadata": {},
   "outputs": [],
   "source": [
    "# Make a tag in the new project\n",
    "licenseplate_tag = trainer.create_tag(project.id, \"licenseplate\")"
   ]
  },
  {
   "cell_type": "code",
   "execution_count": null,
   "id": "3cb23bb3",
   "metadata": {},
   "outputs": [],
   "source": [
    "# using normalized coordinates\n",
    "licenseplate_regions = {\n",
    "    \"image_1\": [ left_coordinate1, top_coordinate1, width_coordinate1, height_coordinate1 ],\n",
    "    \"image_2\": [ left_coordinate2, top_coordinate2, width_coordinate2, height_coordinate2 ],\n",
    "    \"image_3\": [ left_coordinate3, top_coordinate3, width_coordinate3, height_coordinate3 ]}"
   ]
  },
  {
   "cell_type": "code",
   "execution_count": null,
   "id": "0ce6cf5f",
   "metadata": {},
   "outputs": [],
   "source": [
    "base_image_location = os.path.join (os.path.dirname(__file__), \"Images\")\n",
    "\n",
    "# Go through the data table above and create the images\n",
    "print (\"Adding images...\")\n",
    "tagged_images_with_regions = []\n",
    "\n",
    "for file_name in fork_image_regions.keys():\n",
    "    x,y,w,h = fork_image_regions[file_name]\n",
    "    regions = [ Region(tag_id=fork_tag.id, left=x,top=y,width=w,height=h) ]\n",
    "\n",
    "    with open(os.path.join (base_image_location, \"licenseplate\", file_name + \".jpg\"), mode=\"rb\") as image_contents:\n",
    "        tagged_images_with_regions.append(ImageFileCreateEntry(name=file_name, contents=image_contents.read(), regions=regions))\n",
    "\n",
    "\n",
    "upload_result = trainer.create_images_from_files(project.id, ImageFileCreateBatch(images=tagged_images_with_regions))\n",
    "if not upload_result.is_batch_successful:\n",
    "    print(\"Image batch upload failed.\")\n",
    "    for image in upload_result.images:\n",
    "        print(\"Image status: \", image.status)\n",
    "    exit(-1)"
   ]
  },
  {
   "cell_type": "code",
   "execution_count": null,
   "id": "8537e4d2",
   "metadata": {},
   "outputs": [],
   "source": [
    "print (\"Training...\")\n",
    "iteration = trainer.train_project(project.id)\n",
    "while (iteration.status != \"Completed\"):\n",
    "    iteration = trainer.get_iteration(project.id, iteration.id)\n",
    "    print (\"Training status: \" + iteration.status)\n",
    "    time.sleep(1)"
   ]
  },
  {
   "cell_type": "code",
   "execution_count": null,
   "id": "100b18c9",
   "metadata": {},
   "outputs": [],
   "source": [
    "# The iteration is now trained. Publish it to the project endpoint\n",
    "trainer.publish_iteration(project.id, iteration.id, publish_iteration_name, prediction_resource_id)\n",
    "print (\"Done!\")"
   ]
  }
 ],
 "metadata": {
  "kernelspec": {
   "display_name": "Python 3 (ipykernel)",
   "language": "python",
   "name": "python3"
  },
  "language_info": {
   "codemirror_mode": {
    "name": "ipython",
    "version": 3
   },
   "file_extension": ".py",
   "mimetype": "text/x-python",
   "name": "python",
   "nbconvert_exporter": "python",
   "pygments_lexer": "ipython3",
   "version": "3.9.0"
  }
 },
 "nbformat": 4,
 "nbformat_minor": 5
}
